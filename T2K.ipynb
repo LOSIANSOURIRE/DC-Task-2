{
  "cells": [
    {
      "cell_type": "code",
      "source": [
        "print(\"..HELLO..\")"
      ],
      "metadata": {
        "colab": {
          "base_uri": "https://localhost:8080/"
        },
        "id": "QHUmP2hMBiYT",
        "outputId": "6059198c-b2a3-40bc-d487-48d13e17a092"
      },
      "execution_count": null,
      "outputs": [
        {
          "output_type": "stream",
          "name": "stdout",
          "text": [
            "..HELLO..\n"
          ]
        }
      ]
    },
    {
      "cell_type": "code",
      "execution_count": null,
      "metadata": {
        "id": "Z9WeLT8oeneN"
      },
      "outputs": [],
      "source": [
        "import numpy as np\n",
        "import pandas as pd\n",
        "import matplotlib.pyplot as plt\n",
        "import seaborn as sns"
      ]
    },
    {
      "cell_type": "code",
      "execution_count": null,
      "metadata": {
        "id": "kWlKAkTPf0VR"
      },
      "outputs": [],
      "source": [
        "df= pd.read_csv('https://raw.githubusercontent.com/analytics-club-iitm/Summer-School-2022/main/Task_1/data/data.csv')\n"
      ]
    },
    {
      "cell_type": "code",
      "execution_count": null,
      "metadata": {
        "id": "xBrHrGXIg90M"
      },
      "outputs": [],
      "source": [
        "df.head(50)"
      ]
    },
    {
      "cell_type": "code",
      "source": [
        "df.info()"
      ],
      "metadata": {
        "id": "Unb_Wg9bji1r"
      },
      "execution_count": null,
      "outputs": []
    },
    {
      "cell_type": "code",
      "source": [
        "df.describe"
      ],
      "metadata": {
        "id": "egVT3tvwmho6"
      },
      "execution_count": null,
      "outputs": []
    },
    {
      "cell_type": "code",
      "source": [
        "df.columns"
      ],
      "metadata": {
        "id": "d3S3IEjfnZCd"
      },
      "execution_count": null,
      "outputs": []
    },
    {
      "cell_type": "code",
      "source": [
        "df.drop(['S.No', 'EmpID', 'Emp Name', 'DOJ','Attrition ', 'Location', 'In Active Date','Last Rating','Marital Status', 'Zone'],axis=1,inplace= False)"
      ],
      "metadata": {
        "colab": {
          "base_uri": "https://localhost:8080/",
          "height": 502
        },
        "id": "7HKldEE8tfP3",
        "outputId": "36a32926-bac0-47f8-cb60-dd42830d1174"
      },
      "execution_count": null,
      "outputs": [
        {
          "output_type": "execute_result",
          "data": {
            "text/plain": [
              "                    Designation Grade Tenure  Gender  Education  Age  \\\n",
              "0               Sales Executive    E1    1.6  Female  Bachelors   27   \n",
              "1    Technical Services Officer    M2    1.9    Male        MBA   36   \n",
              "2               Sales Executive    E1    1.5    Male  Bachelors   24   \n",
              "3                    AM - Sales    M1   3.11    Male  Bachelors   33   \n",
              "4              Sales Executive     E1    2.1    Male  Bachelors   24   \n",
              "..                          ...   ...    ...     ...        ...  ...   \n",
              "322                  AM - Sales    M1    4.9    Male  Bachelors   37   \n",
              "323             Sales Executive    E1    0.5    Male  Bachelors   25   \n",
              "324          Sr Sales Executive    E2    7.3    Male  Bachelors   28   \n",
              "325                  AM - Sales    M1    8.8    Male  Bachelors   36   \n",
              "326             Sales Executive    E1    0.0    Male  Bachelors   27   \n",
              "\n",
              "     Monthly Income Engagement Score (% Satisfaction)  \\\n",
              "0             25535                                2%   \n",
              "1             52155                               45%   \n",
              "2             26438                               18%   \n",
              "3             54311                               82%   \n",
              "4             26702                               49%   \n",
              "..              ...                               ...   \n",
              "322           53841                               69%   \n",
              "323           25813                               11%   \n",
              "324           36498                               11%   \n",
              "325           51796                               82%   \n",
              "326           26678                               49%   \n",
              "\n",
              "                                            Remarks  \n",
              "0                           Issues with the Manager  \n",
              "1    More Challenging Job Roles/ Higher designation  \n",
              "2                           Issues with the Manager  \n",
              "3                                    Lack of Growth  \n",
              "4                           Issues with the Manager  \n",
              "..                                              ...  \n",
              "322                                  Lack of Growth  \n",
              "323                                  Lack of Growth  \n",
              "324                                  Lack of Growth  \n",
              "325                  Termination - Poor Performance  \n",
              "326                         Issues with the Manager  \n",
              "\n",
              "[327 rows x 9 columns]"
            ],
            "text/html": [
              "\n",
              "  <div id=\"df-b746cb5e-a005-44b3-b00b-a049fa9430fa\">\n",
              "    <div class=\"colab-df-container\">\n",
              "      <div>\n",
              "<style scoped>\n",
              "    .dataframe tbody tr th:only-of-type {\n",
              "        vertical-align: middle;\n",
              "    }\n",
              "\n",
              "    .dataframe tbody tr th {\n",
              "        vertical-align: top;\n",
              "    }\n",
              "\n",
              "    .dataframe thead th {\n",
              "        text-align: right;\n",
              "    }\n",
              "</style>\n",
              "<table border=\"1\" class=\"dataframe\">\n",
              "  <thead>\n",
              "    <tr style=\"text-align: right;\">\n",
              "      <th></th>\n",
              "      <th>Designation</th>\n",
              "      <th>Grade</th>\n",
              "      <th>Tenure</th>\n",
              "      <th>Gender</th>\n",
              "      <th>Education</th>\n",
              "      <th>Age</th>\n",
              "      <th>Monthly Income</th>\n",
              "      <th>Engagement Score (% Satisfaction)</th>\n",
              "      <th>Remarks</th>\n",
              "    </tr>\n",
              "  </thead>\n",
              "  <tbody>\n",
              "    <tr>\n",
              "      <th>0</th>\n",
              "      <td>Sales Executive</td>\n",
              "      <td>E1</td>\n",
              "      <td>1.6</td>\n",
              "      <td>Female</td>\n",
              "      <td>Bachelors</td>\n",
              "      <td>27</td>\n",
              "      <td>25535</td>\n",
              "      <td>2%</td>\n",
              "      <td>Issues with the Manager</td>\n",
              "    </tr>\n",
              "    <tr>\n",
              "      <th>1</th>\n",
              "      <td>Technical Services Officer</td>\n",
              "      <td>M2</td>\n",
              "      <td>1.9</td>\n",
              "      <td>Male</td>\n",
              "      <td>MBA</td>\n",
              "      <td>36</td>\n",
              "      <td>52155</td>\n",
              "      <td>45%</td>\n",
              "      <td>More Challenging Job Roles/ Higher designation</td>\n",
              "    </tr>\n",
              "    <tr>\n",
              "      <th>2</th>\n",
              "      <td>Sales Executive</td>\n",
              "      <td>E1</td>\n",
              "      <td>1.5</td>\n",
              "      <td>Male</td>\n",
              "      <td>Bachelors</td>\n",
              "      <td>24</td>\n",
              "      <td>26438</td>\n",
              "      <td>18%</td>\n",
              "      <td>Issues with the Manager</td>\n",
              "    </tr>\n",
              "    <tr>\n",
              "      <th>3</th>\n",
              "      <td>AM - Sales</td>\n",
              "      <td>M1</td>\n",
              "      <td>3.11</td>\n",
              "      <td>Male</td>\n",
              "      <td>Bachelors</td>\n",
              "      <td>33</td>\n",
              "      <td>54311</td>\n",
              "      <td>82%</td>\n",
              "      <td>Lack of Growth</td>\n",
              "    </tr>\n",
              "    <tr>\n",
              "      <th>4</th>\n",
              "      <td>Sales Executive</td>\n",
              "      <td>E1</td>\n",
              "      <td>2.1</td>\n",
              "      <td>Male</td>\n",
              "      <td>Bachelors</td>\n",
              "      <td>24</td>\n",
              "      <td>26702</td>\n",
              "      <td>49%</td>\n",
              "      <td>Issues with the Manager</td>\n",
              "    </tr>\n",
              "    <tr>\n",
              "      <th>...</th>\n",
              "      <td>...</td>\n",
              "      <td>...</td>\n",
              "      <td>...</td>\n",
              "      <td>...</td>\n",
              "      <td>...</td>\n",
              "      <td>...</td>\n",
              "      <td>...</td>\n",
              "      <td>...</td>\n",
              "      <td>...</td>\n",
              "    </tr>\n",
              "    <tr>\n",
              "      <th>322</th>\n",
              "      <td>AM - Sales</td>\n",
              "      <td>M1</td>\n",
              "      <td>4.9</td>\n",
              "      <td>Male</td>\n",
              "      <td>Bachelors</td>\n",
              "      <td>37</td>\n",
              "      <td>53841</td>\n",
              "      <td>69%</td>\n",
              "      <td>Lack of Growth</td>\n",
              "    </tr>\n",
              "    <tr>\n",
              "      <th>323</th>\n",
              "      <td>Sales Executive</td>\n",
              "      <td>E1</td>\n",
              "      <td>0.5</td>\n",
              "      <td>Male</td>\n",
              "      <td>Bachelors</td>\n",
              "      <td>25</td>\n",
              "      <td>25813</td>\n",
              "      <td>11%</td>\n",
              "      <td>Lack of Growth</td>\n",
              "    </tr>\n",
              "    <tr>\n",
              "      <th>324</th>\n",
              "      <td>Sr Sales Executive</td>\n",
              "      <td>E2</td>\n",
              "      <td>7.3</td>\n",
              "      <td>Male</td>\n",
              "      <td>Bachelors</td>\n",
              "      <td>28</td>\n",
              "      <td>36498</td>\n",
              "      <td>11%</td>\n",
              "      <td>Lack of Growth</td>\n",
              "    </tr>\n",
              "    <tr>\n",
              "      <th>325</th>\n",
              "      <td>AM - Sales</td>\n",
              "      <td>M1</td>\n",
              "      <td>8.8</td>\n",
              "      <td>Male</td>\n",
              "      <td>Bachelors</td>\n",
              "      <td>36</td>\n",
              "      <td>51796</td>\n",
              "      <td>82%</td>\n",
              "      <td>Termination - Poor Performance</td>\n",
              "    </tr>\n",
              "    <tr>\n",
              "      <th>326</th>\n",
              "      <td>Sales Executive</td>\n",
              "      <td>E1</td>\n",
              "      <td>0.0</td>\n",
              "      <td>Male</td>\n",
              "      <td>Bachelors</td>\n",
              "      <td>27</td>\n",
              "      <td>26678</td>\n",
              "      <td>49%</td>\n",
              "      <td>Issues with the Manager</td>\n",
              "    </tr>\n",
              "  </tbody>\n",
              "</table>\n",
              "<p>327 rows × 9 columns</p>\n",
              "</div>\n",
              "      <button class=\"colab-df-convert\" onclick=\"convertToInteractive('df-b746cb5e-a005-44b3-b00b-a049fa9430fa')\"\n",
              "              title=\"Convert this dataframe to an interactive table.\"\n",
              "              style=\"display:none;\">\n",
              "        \n",
              "  <svg xmlns=\"http://www.w3.org/2000/svg\" height=\"24px\"viewBox=\"0 0 24 24\"\n",
              "       width=\"24px\">\n",
              "    <path d=\"M0 0h24v24H0V0z\" fill=\"none\"/>\n",
              "    <path d=\"M18.56 5.44l.94 2.06.94-2.06 2.06-.94-2.06-.94-.94-2.06-.94 2.06-2.06.94zm-11 1L8.5 8.5l.94-2.06 2.06-.94-2.06-.94L8.5 2.5l-.94 2.06-2.06.94zm10 10l.94 2.06.94-2.06 2.06-.94-2.06-.94-.94-2.06-.94 2.06-2.06.94z\"/><path d=\"M17.41 7.96l-1.37-1.37c-.4-.4-.92-.59-1.43-.59-.52 0-1.04.2-1.43.59L10.3 9.45l-7.72 7.72c-.78.78-.78 2.05 0 2.83L4 21.41c.39.39.9.59 1.41.59.51 0 1.02-.2 1.41-.59l7.78-7.78 2.81-2.81c.8-.78.8-2.07 0-2.86zM5.41 20L4 18.59l7.72-7.72 1.47 1.35L5.41 20z\"/>\n",
              "  </svg>\n",
              "      </button>\n",
              "      \n",
              "  <style>\n",
              "    .colab-df-container {\n",
              "      display:flex;\n",
              "      flex-wrap:wrap;\n",
              "      gap: 12px;\n",
              "    }\n",
              "\n",
              "    .colab-df-convert {\n",
              "      background-color: #E8F0FE;\n",
              "      border: none;\n",
              "      border-radius: 50%;\n",
              "      cursor: pointer;\n",
              "      display: none;\n",
              "      fill: #1967D2;\n",
              "      height: 32px;\n",
              "      padding: 0 0 0 0;\n",
              "      width: 32px;\n",
              "    }\n",
              "\n",
              "    .colab-df-convert:hover {\n",
              "      background-color: #E2EBFA;\n",
              "      box-shadow: 0px 1px 2px rgba(60, 64, 67, 0.3), 0px 1px 3px 1px rgba(60, 64, 67, 0.15);\n",
              "      fill: #174EA6;\n",
              "    }\n",
              "\n",
              "    [theme=dark] .colab-df-convert {\n",
              "      background-color: #3B4455;\n",
              "      fill: #D2E3FC;\n",
              "    }\n",
              "\n",
              "    [theme=dark] .colab-df-convert:hover {\n",
              "      background-color: #434B5C;\n",
              "      box-shadow: 0px 1px 3px 1px rgba(0, 0, 0, 0.15);\n",
              "      filter: drop-shadow(0px 1px 2px rgba(0, 0, 0, 0.3));\n",
              "      fill: #FFFFFF;\n",
              "    }\n",
              "  </style>\n",
              "\n",
              "      <script>\n",
              "        const buttonEl =\n",
              "          document.querySelector('#df-b746cb5e-a005-44b3-b00b-a049fa9430fa button.colab-df-convert');\n",
              "        buttonEl.style.display =\n",
              "          google.colab.kernel.accessAllowed ? 'block' : 'none';\n",
              "\n",
              "        async function convertToInteractive(key) {\n",
              "          const element = document.querySelector('#df-b746cb5e-a005-44b3-b00b-a049fa9430fa');\n",
              "          const dataTable =\n",
              "            await google.colab.kernel.invokeFunction('convertToInteractive',\n",
              "                                                     [key], {});\n",
              "          if (!dataTable) return;\n",
              "\n",
              "          const docLinkHtml = 'Like what you see? Visit the ' +\n",
              "            '<a target=\"_blank\" href=https://colab.research.google.com/notebooks/data_table.ipynb>data table notebook</a>'\n",
              "            + ' to learn more about interactive tables.';\n",
              "          element.innerHTML = '';\n",
              "          dataTable['output_type'] = 'display_data';\n",
              "          await google.colab.output.renderOutput(dataTable, element);\n",
              "          const docLink = document.createElement('div');\n",
              "          docLink.innerHTML = docLinkHtml;\n",
              "          element.appendChild(docLink);\n",
              "        }\n",
              "      </script>\n",
              "    </div>\n",
              "  </div>\n",
              "  "
            ]
          },
          "metadata": {},
          "execution_count": 82
        }
      ]
    },
    {
      "cell_type": "code",
      "source": [
        "df['Gender']#Key to the Library{Returns the gender column only }"
      ],
      "metadata": {
        "id": "w2tKnic-uDzF"
      },
      "execution_count": null,
      "outputs": []
    },
    {
      "cell_type": "code",
      "source": [
        "df.iloc[10:20,15:17] #from row 10 to less than row 20"
      ],
      "metadata": {
        "id": "bUzkyz1Muc8I"
      },
      "execution_count": null,
      "outputs": []
    },
    {
      "cell_type": "code",
      "source": [
        "df.iloc[:,18] # keep note that here first thing is row number , second thing is column number"
      ],
      "metadata": {
        "id": "99bSA8xju_YG"
      },
      "execution_count": null,
      "outputs": []
    },
    {
      "cell_type": "code",
      "source": [
        "df[df['Gender']=='Female'].drop(['S.No', 'EmpID', 'Emp Name', 'DOJ','Attrition ', 'Location', 'In Active Date','Last Rating','Marital Status', 'Zone'],axis=1,inplace= False) "
      ],
      "metadata": {
        "colab": {
          "base_uri": "https://localhost:8080/",
          "height": 744
        },
        "id": "5x3MtWI7vo70",
        "outputId": "2255f934-48cd-407f-e4e9-750fe6b31a51"
      },
      "execution_count": null,
      "outputs": [
        {
          "output_type": "execute_result",
          "data": {
            "text/plain": [
              "            Designation Grade Tenure  Gender  Education  Age  Monthly Income  \\\n",
              "0       Sales Executive    E1    1.6  Female  Bachelors   27           25535   \n",
              "8       Sales Executive    E1    0.2  Female  Bachelors   26           25010   \n",
              "15      Sales Executive    E1    1.1  Female  Bachelors   26           26266   \n",
              "35      Sales Executive    E1   3.11  Female  Bachelors   24           25632   \n",
              "44   Sr Sales Executive    E2    3.4  Female  Bachelors   27           33648   \n",
              "45      Sales Executive    E1    1.1  Female  Bachelors   28           25348   \n",
              "46     Regional Manager    M3    5.4  Female  Bachelors   36           58259   \n",
              "51     Sales Executive     E1    2.1  Female  Bachelors   24           26236   \n",
              "54     Regional Manager    M3    0.2  Female  Bachelors   35           54583   \n",
              "67      Sales Executive    E1    1.4  Female  Bachelors   26           26320   \n",
              "74           AM - Sales    M1    2.2  Female  Bachelors   32           50129   \n",
              "78      Sales Executive    E1    1.4  Female  Bachelors   28           25368   \n",
              "97     Sales Executive     E1    3.1  Female  Bachelors   25           26654   \n",
              "221     Sales Executive    E1    4.1  Female  Bachelors   26           25485   \n",
              "242     Sales Executive    E1    0.4  Female  Bachelors   27           25470   \n",
              "257     Sales Executive    E1    3.3  Female  Bachelors   28           25765   \n",
              "275     Sales Executive    E1    2.3  Female  Bachelors   26           25636   \n",
              "308       Zonal Manager    M4    3.4  Female        MBA   40           84759   \n",
              "\n",
              "    Engagement Score (% Satisfaction)  \\\n",
              "0                                  2%   \n",
              "8                                 42%   \n",
              "15                                53%   \n",
              "35                                13%   \n",
              "44                                91%   \n",
              "45                                12%   \n",
              "46                                27%   \n",
              "51                                79%   \n",
              "54                                75%   \n",
              "67                                45%   \n",
              "74                                80%   \n",
              "78                                94%   \n",
              "97                                14%   \n",
              "221                               83%   \n",
              "242                               85%   \n",
              "257                               10%   \n",
              "275                               26%   \n",
              "308                               85%   \n",
              "\n",
              "                                            Remarks  \n",
              "0                           Issues with the Manager  \n",
              "8                                    Lack of Growth  \n",
              "15                                   Lack of Growth  \n",
              "35                                   Lack of Growth  \n",
              "44                          Issues with the Manager  \n",
              "45                          Issues with the Manager  \n",
              "46   More Challenging Job Roles/ Higher designation  \n",
              "51                                   Lack of Growth  \n",
              "54   More Challenging Job Roles/ Higher designation  \n",
              "67                                   Lack of Growth  \n",
              "74                                   Lack of Growth  \n",
              "78                          Issues with the Manager  \n",
              "97                                    Better Salary  \n",
              "221                         Issues with the Manager  \n",
              "242                         Issues with the Manager  \n",
              "257                         Issues with the Manager  \n",
              "275                         Issues with the Manager  \n",
              "308  More Challenging Job Roles/ Higher designation  "
            ],
            "text/html": [
              "\n",
              "  <div id=\"df-e1aa2884-0682-4b7c-9606-4d2fdc1dec57\">\n",
              "    <div class=\"colab-df-container\">\n",
              "      <div>\n",
              "<style scoped>\n",
              "    .dataframe tbody tr th:only-of-type {\n",
              "        vertical-align: middle;\n",
              "    }\n",
              "\n",
              "    .dataframe tbody tr th {\n",
              "        vertical-align: top;\n",
              "    }\n",
              "\n",
              "    .dataframe thead th {\n",
              "        text-align: right;\n",
              "    }\n",
              "</style>\n",
              "<table border=\"1\" class=\"dataframe\">\n",
              "  <thead>\n",
              "    <tr style=\"text-align: right;\">\n",
              "      <th></th>\n",
              "      <th>Designation</th>\n",
              "      <th>Grade</th>\n",
              "      <th>Tenure</th>\n",
              "      <th>Gender</th>\n",
              "      <th>Education</th>\n",
              "      <th>Age</th>\n",
              "      <th>Monthly Income</th>\n",
              "      <th>Engagement Score (% Satisfaction)</th>\n",
              "      <th>Remarks</th>\n",
              "    </tr>\n",
              "  </thead>\n",
              "  <tbody>\n",
              "    <tr>\n",
              "      <th>0</th>\n",
              "      <td>Sales Executive</td>\n",
              "      <td>E1</td>\n",
              "      <td>1.6</td>\n",
              "      <td>Female</td>\n",
              "      <td>Bachelors</td>\n",
              "      <td>27</td>\n",
              "      <td>25535</td>\n",
              "      <td>2%</td>\n",
              "      <td>Issues with the Manager</td>\n",
              "    </tr>\n",
              "    <tr>\n",
              "      <th>8</th>\n",
              "      <td>Sales Executive</td>\n",
              "      <td>E1</td>\n",
              "      <td>0.2</td>\n",
              "      <td>Female</td>\n",
              "      <td>Bachelors</td>\n",
              "      <td>26</td>\n",
              "      <td>25010</td>\n",
              "      <td>42%</td>\n",
              "      <td>Lack of Growth</td>\n",
              "    </tr>\n",
              "    <tr>\n",
              "      <th>15</th>\n",
              "      <td>Sales Executive</td>\n",
              "      <td>E1</td>\n",
              "      <td>1.1</td>\n",
              "      <td>Female</td>\n",
              "      <td>Bachelors</td>\n",
              "      <td>26</td>\n",
              "      <td>26266</td>\n",
              "      <td>53%</td>\n",
              "      <td>Lack of Growth</td>\n",
              "    </tr>\n",
              "    <tr>\n",
              "      <th>35</th>\n",
              "      <td>Sales Executive</td>\n",
              "      <td>E1</td>\n",
              "      <td>3.11</td>\n",
              "      <td>Female</td>\n",
              "      <td>Bachelors</td>\n",
              "      <td>24</td>\n",
              "      <td>25632</td>\n",
              "      <td>13%</td>\n",
              "      <td>Lack of Growth</td>\n",
              "    </tr>\n",
              "    <tr>\n",
              "      <th>44</th>\n",
              "      <td>Sr Sales Executive</td>\n",
              "      <td>E2</td>\n",
              "      <td>3.4</td>\n",
              "      <td>Female</td>\n",
              "      <td>Bachelors</td>\n",
              "      <td>27</td>\n",
              "      <td>33648</td>\n",
              "      <td>91%</td>\n",
              "      <td>Issues with the Manager</td>\n",
              "    </tr>\n",
              "    <tr>\n",
              "      <th>45</th>\n",
              "      <td>Sales Executive</td>\n",
              "      <td>E1</td>\n",
              "      <td>1.1</td>\n",
              "      <td>Female</td>\n",
              "      <td>Bachelors</td>\n",
              "      <td>28</td>\n",
              "      <td>25348</td>\n",
              "      <td>12%</td>\n",
              "      <td>Issues with the Manager</td>\n",
              "    </tr>\n",
              "    <tr>\n",
              "      <th>46</th>\n",
              "      <td>Regional Manager</td>\n",
              "      <td>M3</td>\n",
              "      <td>5.4</td>\n",
              "      <td>Female</td>\n",
              "      <td>Bachelors</td>\n",
              "      <td>36</td>\n",
              "      <td>58259</td>\n",
              "      <td>27%</td>\n",
              "      <td>More Challenging Job Roles/ Higher designation</td>\n",
              "    </tr>\n",
              "    <tr>\n",
              "      <th>51</th>\n",
              "      <td>Sales Executive</td>\n",
              "      <td>E1</td>\n",
              "      <td>2.1</td>\n",
              "      <td>Female</td>\n",
              "      <td>Bachelors</td>\n",
              "      <td>24</td>\n",
              "      <td>26236</td>\n",
              "      <td>79%</td>\n",
              "      <td>Lack of Growth</td>\n",
              "    </tr>\n",
              "    <tr>\n",
              "      <th>54</th>\n",
              "      <td>Regional Manager</td>\n",
              "      <td>M3</td>\n",
              "      <td>0.2</td>\n",
              "      <td>Female</td>\n",
              "      <td>Bachelors</td>\n",
              "      <td>35</td>\n",
              "      <td>54583</td>\n",
              "      <td>75%</td>\n",
              "      <td>More Challenging Job Roles/ Higher designation</td>\n",
              "    </tr>\n",
              "    <tr>\n",
              "      <th>67</th>\n",
              "      <td>Sales Executive</td>\n",
              "      <td>E1</td>\n",
              "      <td>1.4</td>\n",
              "      <td>Female</td>\n",
              "      <td>Bachelors</td>\n",
              "      <td>26</td>\n",
              "      <td>26320</td>\n",
              "      <td>45%</td>\n",
              "      <td>Lack of Growth</td>\n",
              "    </tr>\n",
              "    <tr>\n",
              "      <th>74</th>\n",
              "      <td>AM - Sales</td>\n",
              "      <td>M1</td>\n",
              "      <td>2.2</td>\n",
              "      <td>Female</td>\n",
              "      <td>Bachelors</td>\n",
              "      <td>32</td>\n",
              "      <td>50129</td>\n",
              "      <td>80%</td>\n",
              "      <td>Lack of Growth</td>\n",
              "    </tr>\n",
              "    <tr>\n",
              "      <th>78</th>\n",
              "      <td>Sales Executive</td>\n",
              "      <td>E1</td>\n",
              "      <td>1.4</td>\n",
              "      <td>Female</td>\n",
              "      <td>Bachelors</td>\n",
              "      <td>28</td>\n",
              "      <td>25368</td>\n",
              "      <td>94%</td>\n",
              "      <td>Issues with the Manager</td>\n",
              "    </tr>\n",
              "    <tr>\n",
              "      <th>97</th>\n",
              "      <td>Sales Executive</td>\n",
              "      <td>E1</td>\n",
              "      <td>3.1</td>\n",
              "      <td>Female</td>\n",
              "      <td>Bachelors</td>\n",
              "      <td>25</td>\n",
              "      <td>26654</td>\n",
              "      <td>14%</td>\n",
              "      <td>Better Salary</td>\n",
              "    </tr>\n",
              "    <tr>\n",
              "      <th>221</th>\n",
              "      <td>Sales Executive</td>\n",
              "      <td>E1</td>\n",
              "      <td>4.1</td>\n",
              "      <td>Female</td>\n",
              "      <td>Bachelors</td>\n",
              "      <td>26</td>\n",
              "      <td>25485</td>\n",
              "      <td>83%</td>\n",
              "      <td>Issues with the Manager</td>\n",
              "    </tr>\n",
              "    <tr>\n",
              "      <th>242</th>\n",
              "      <td>Sales Executive</td>\n",
              "      <td>E1</td>\n",
              "      <td>0.4</td>\n",
              "      <td>Female</td>\n",
              "      <td>Bachelors</td>\n",
              "      <td>27</td>\n",
              "      <td>25470</td>\n",
              "      <td>85%</td>\n",
              "      <td>Issues with the Manager</td>\n",
              "    </tr>\n",
              "    <tr>\n",
              "      <th>257</th>\n",
              "      <td>Sales Executive</td>\n",
              "      <td>E1</td>\n",
              "      <td>3.3</td>\n",
              "      <td>Female</td>\n",
              "      <td>Bachelors</td>\n",
              "      <td>28</td>\n",
              "      <td>25765</td>\n",
              "      <td>10%</td>\n",
              "      <td>Issues with the Manager</td>\n",
              "    </tr>\n",
              "    <tr>\n",
              "      <th>275</th>\n",
              "      <td>Sales Executive</td>\n",
              "      <td>E1</td>\n",
              "      <td>2.3</td>\n",
              "      <td>Female</td>\n",
              "      <td>Bachelors</td>\n",
              "      <td>26</td>\n",
              "      <td>25636</td>\n",
              "      <td>26%</td>\n",
              "      <td>Issues with the Manager</td>\n",
              "    </tr>\n",
              "    <tr>\n",
              "      <th>308</th>\n",
              "      <td>Zonal Manager</td>\n",
              "      <td>M4</td>\n",
              "      <td>3.4</td>\n",
              "      <td>Female</td>\n",
              "      <td>MBA</td>\n",
              "      <td>40</td>\n",
              "      <td>84759</td>\n",
              "      <td>85%</td>\n",
              "      <td>More Challenging Job Roles/ Higher designation</td>\n",
              "    </tr>\n",
              "  </tbody>\n",
              "</table>\n",
              "</div>\n",
              "      <button class=\"colab-df-convert\" onclick=\"convertToInteractive('df-e1aa2884-0682-4b7c-9606-4d2fdc1dec57')\"\n",
              "              title=\"Convert this dataframe to an interactive table.\"\n",
              "              style=\"display:none;\">\n",
              "        \n",
              "  <svg xmlns=\"http://www.w3.org/2000/svg\" height=\"24px\"viewBox=\"0 0 24 24\"\n",
              "       width=\"24px\">\n",
              "    <path d=\"M0 0h24v24H0V0z\" fill=\"none\"/>\n",
              "    <path d=\"M18.56 5.44l.94 2.06.94-2.06 2.06-.94-2.06-.94-.94-2.06-.94 2.06-2.06.94zm-11 1L8.5 8.5l.94-2.06 2.06-.94-2.06-.94L8.5 2.5l-.94 2.06-2.06.94zm10 10l.94 2.06.94-2.06 2.06-.94-2.06-.94-.94-2.06-.94 2.06-2.06.94z\"/><path d=\"M17.41 7.96l-1.37-1.37c-.4-.4-.92-.59-1.43-.59-.52 0-1.04.2-1.43.59L10.3 9.45l-7.72 7.72c-.78.78-.78 2.05 0 2.83L4 21.41c.39.39.9.59 1.41.59.51 0 1.02-.2 1.41-.59l7.78-7.78 2.81-2.81c.8-.78.8-2.07 0-2.86zM5.41 20L4 18.59l7.72-7.72 1.47 1.35L5.41 20z\"/>\n",
              "  </svg>\n",
              "      </button>\n",
              "      \n",
              "  <style>\n",
              "    .colab-df-container {\n",
              "      display:flex;\n",
              "      flex-wrap:wrap;\n",
              "      gap: 12px;\n",
              "    }\n",
              "\n",
              "    .colab-df-convert {\n",
              "      background-color: #E8F0FE;\n",
              "      border: none;\n",
              "      border-radius: 50%;\n",
              "      cursor: pointer;\n",
              "      display: none;\n",
              "      fill: #1967D2;\n",
              "      height: 32px;\n",
              "      padding: 0 0 0 0;\n",
              "      width: 32px;\n",
              "    }\n",
              "\n",
              "    .colab-df-convert:hover {\n",
              "      background-color: #E2EBFA;\n",
              "      box-shadow: 0px 1px 2px rgba(60, 64, 67, 0.3), 0px 1px 3px 1px rgba(60, 64, 67, 0.15);\n",
              "      fill: #174EA6;\n",
              "    }\n",
              "\n",
              "    [theme=dark] .colab-df-convert {\n",
              "      background-color: #3B4455;\n",
              "      fill: #D2E3FC;\n",
              "    }\n",
              "\n",
              "    [theme=dark] .colab-df-convert:hover {\n",
              "      background-color: #434B5C;\n",
              "      box-shadow: 0px 1px 3px 1px rgba(0, 0, 0, 0.15);\n",
              "      filter: drop-shadow(0px 1px 2px rgba(0, 0, 0, 0.3));\n",
              "      fill: #FFFFFF;\n",
              "    }\n",
              "  </style>\n",
              "\n",
              "      <script>\n",
              "        const buttonEl =\n",
              "          document.querySelector('#df-e1aa2884-0682-4b7c-9606-4d2fdc1dec57 button.colab-df-convert');\n",
              "        buttonEl.style.display =\n",
              "          google.colab.kernel.accessAllowed ? 'block' : 'none';\n",
              "\n",
              "        async function convertToInteractive(key) {\n",
              "          const element = document.querySelector('#df-e1aa2884-0682-4b7c-9606-4d2fdc1dec57');\n",
              "          const dataTable =\n",
              "            await google.colab.kernel.invokeFunction('convertToInteractive',\n",
              "                                                     [key], {});\n",
              "          if (!dataTable) return;\n",
              "\n",
              "          const docLinkHtml = 'Like what you see? Visit the ' +\n",
              "            '<a target=\"_blank\" href=https://colab.research.google.com/notebooks/data_table.ipynb>data table notebook</a>'\n",
              "            + ' to learn more about interactive tables.';\n",
              "          element.innerHTML = '';\n",
              "          dataTable['output_type'] = 'display_data';\n",
              "          await google.colab.output.renderOutput(dataTable, element);\n",
              "          const docLink = document.createElement('div');\n",
              "          docLink.innerHTML = docLinkHtml;\n",
              "          element.appendChild(docLink);\n",
              "        }\n",
              "      </script>\n",
              "    </div>\n",
              "  </div>\n",
              "  "
            ]
          },
          "metadata": {},
          "execution_count": 110
        }
      ]
    },
    {
      "cell_type": "code",
      "source": [
        "df[df['Gender']=='Male'].drop(['S.No', 'EmpID', 'Emp Name', 'DOJ','Attrition ', 'Location', 'In Active Date','Last Rating','Marital Status', 'Zone'],axis=1,inplace= False)"
      ],
      "metadata": {
        "colab": {
          "base_uri": "https://localhost:8080/",
          "height": 502
        },
        "id": "9ZZUVGERwEua",
        "outputId": "01432505-6351-483b-bed0-c7746d3b0d18"
      },
      "execution_count": null,
      "outputs": [
        {
          "output_type": "execute_result",
          "data": {
            "text/plain": [
              "                    Designation Grade Tenure Gender  Education  Age  \\\n",
              "1    Technical Services Officer    M2    1.9   Male        MBA   36   \n",
              "2               Sales Executive    E1    1.5   Male  Bachelors   24   \n",
              "3                    AM - Sales    M1   3.11   Male  Bachelors   33   \n",
              "4              Sales Executive     E1    2.1   Male  Bachelors   24   \n",
              "5               Sales Executive    E1    0.4   Male  Bachelors   26   \n",
              "..                          ...   ...    ...    ...        ...  ...   \n",
              "322                  AM - Sales    M1    4.9   Male  Bachelors   37   \n",
              "323             Sales Executive    E1    0.5   Male  Bachelors   25   \n",
              "324          Sr Sales Executive    E2    7.3   Male  Bachelors   28   \n",
              "325                  AM - Sales    M1    8.8   Male  Bachelors   36   \n",
              "326             Sales Executive    E1    0.0   Male  Bachelors   27   \n",
              "\n",
              "     Monthly Income Engagement Score (% Satisfaction)  \\\n",
              "1             52155                               45%   \n",
              "2             26438                               18%   \n",
              "3             54311                               82%   \n",
              "4             26702                               49%   \n",
              "5             26291                               81%   \n",
              "..              ...                               ...   \n",
              "322           53841                               69%   \n",
              "323           25813                               11%   \n",
              "324           36498                               11%   \n",
              "325           51796                               82%   \n",
              "326           26678                               49%   \n",
              "\n",
              "                                            Remarks  \n",
              "1    More Challenging Job Roles/ Higher designation  \n",
              "2                           Issues with the Manager  \n",
              "3                                    Lack of Growth  \n",
              "4                           Issues with the Manager  \n",
              "5                                     Better Salary  \n",
              "..                                              ...  \n",
              "322                                  Lack of Growth  \n",
              "323                                  Lack of Growth  \n",
              "324                                  Lack of Growth  \n",
              "325                  Termination - Poor Performance  \n",
              "326                         Issues with the Manager  \n",
              "\n",
              "[309 rows x 9 columns]"
            ],
            "text/html": [
              "\n",
              "  <div id=\"df-c9ea0a65-577b-40b0-b73e-ac77eba2d3d4\">\n",
              "    <div class=\"colab-df-container\">\n",
              "      <div>\n",
              "<style scoped>\n",
              "    .dataframe tbody tr th:only-of-type {\n",
              "        vertical-align: middle;\n",
              "    }\n",
              "\n",
              "    .dataframe tbody tr th {\n",
              "        vertical-align: top;\n",
              "    }\n",
              "\n",
              "    .dataframe thead th {\n",
              "        text-align: right;\n",
              "    }\n",
              "</style>\n",
              "<table border=\"1\" class=\"dataframe\">\n",
              "  <thead>\n",
              "    <tr style=\"text-align: right;\">\n",
              "      <th></th>\n",
              "      <th>Designation</th>\n",
              "      <th>Grade</th>\n",
              "      <th>Tenure</th>\n",
              "      <th>Gender</th>\n",
              "      <th>Education</th>\n",
              "      <th>Age</th>\n",
              "      <th>Monthly Income</th>\n",
              "      <th>Engagement Score (% Satisfaction)</th>\n",
              "      <th>Remarks</th>\n",
              "    </tr>\n",
              "  </thead>\n",
              "  <tbody>\n",
              "    <tr>\n",
              "      <th>1</th>\n",
              "      <td>Technical Services Officer</td>\n",
              "      <td>M2</td>\n",
              "      <td>1.9</td>\n",
              "      <td>Male</td>\n",
              "      <td>MBA</td>\n",
              "      <td>36</td>\n",
              "      <td>52155</td>\n",
              "      <td>45%</td>\n",
              "      <td>More Challenging Job Roles/ Higher designation</td>\n",
              "    </tr>\n",
              "    <tr>\n",
              "      <th>2</th>\n",
              "      <td>Sales Executive</td>\n",
              "      <td>E1</td>\n",
              "      <td>1.5</td>\n",
              "      <td>Male</td>\n",
              "      <td>Bachelors</td>\n",
              "      <td>24</td>\n",
              "      <td>26438</td>\n",
              "      <td>18%</td>\n",
              "      <td>Issues with the Manager</td>\n",
              "    </tr>\n",
              "    <tr>\n",
              "      <th>3</th>\n",
              "      <td>AM - Sales</td>\n",
              "      <td>M1</td>\n",
              "      <td>3.11</td>\n",
              "      <td>Male</td>\n",
              "      <td>Bachelors</td>\n",
              "      <td>33</td>\n",
              "      <td>54311</td>\n",
              "      <td>82%</td>\n",
              "      <td>Lack of Growth</td>\n",
              "    </tr>\n",
              "    <tr>\n",
              "      <th>4</th>\n",
              "      <td>Sales Executive</td>\n",
              "      <td>E1</td>\n",
              "      <td>2.1</td>\n",
              "      <td>Male</td>\n",
              "      <td>Bachelors</td>\n",
              "      <td>24</td>\n",
              "      <td>26702</td>\n",
              "      <td>49%</td>\n",
              "      <td>Issues with the Manager</td>\n",
              "    </tr>\n",
              "    <tr>\n",
              "      <th>5</th>\n",
              "      <td>Sales Executive</td>\n",
              "      <td>E1</td>\n",
              "      <td>0.4</td>\n",
              "      <td>Male</td>\n",
              "      <td>Bachelors</td>\n",
              "      <td>26</td>\n",
              "      <td>26291</td>\n",
              "      <td>81%</td>\n",
              "      <td>Better Salary</td>\n",
              "    </tr>\n",
              "    <tr>\n",
              "      <th>...</th>\n",
              "      <td>...</td>\n",
              "      <td>...</td>\n",
              "      <td>...</td>\n",
              "      <td>...</td>\n",
              "      <td>...</td>\n",
              "      <td>...</td>\n",
              "      <td>...</td>\n",
              "      <td>...</td>\n",
              "      <td>...</td>\n",
              "    </tr>\n",
              "    <tr>\n",
              "      <th>322</th>\n",
              "      <td>AM - Sales</td>\n",
              "      <td>M1</td>\n",
              "      <td>4.9</td>\n",
              "      <td>Male</td>\n",
              "      <td>Bachelors</td>\n",
              "      <td>37</td>\n",
              "      <td>53841</td>\n",
              "      <td>69%</td>\n",
              "      <td>Lack of Growth</td>\n",
              "    </tr>\n",
              "    <tr>\n",
              "      <th>323</th>\n",
              "      <td>Sales Executive</td>\n",
              "      <td>E1</td>\n",
              "      <td>0.5</td>\n",
              "      <td>Male</td>\n",
              "      <td>Bachelors</td>\n",
              "      <td>25</td>\n",
              "      <td>25813</td>\n",
              "      <td>11%</td>\n",
              "      <td>Lack of Growth</td>\n",
              "    </tr>\n",
              "    <tr>\n",
              "      <th>324</th>\n",
              "      <td>Sr Sales Executive</td>\n",
              "      <td>E2</td>\n",
              "      <td>7.3</td>\n",
              "      <td>Male</td>\n",
              "      <td>Bachelors</td>\n",
              "      <td>28</td>\n",
              "      <td>36498</td>\n",
              "      <td>11%</td>\n",
              "      <td>Lack of Growth</td>\n",
              "    </tr>\n",
              "    <tr>\n",
              "      <th>325</th>\n",
              "      <td>AM - Sales</td>\n",
              "      <td>M1</td>\n",
              "      <td>8.8</td>\n",
              "      <td>Male</td>\n",
              "      <td>Bachelors</td>\n",
              "      <td>36</td>\n",
              "      <td>51796</td>\n",
              "      <td>82%</td>\n",
              "      <td>Termination - Poor Performance</td>\n",
              "    </tr>\n",
              "    <tr>\n",
              "      <th>326</th>\n",
              "      <td>Sales Executive</td>\n",
              "      <td>E1</td>\n",
              "      <td>0.0</td>\n",
              "      <td>Male</td>\n",
              "      <td>Bachelors</td>\n",
              "      <td>27</td>\n",
              "      <td>26678</td>\n",
              "      <td>49%</td>\n",
              "      <td>Issues with the Manager</td>\n",
              "    </tr>\n",
              "  </tbody>\n",
              "</table>\n",
              "<p>309 rows × 9 columns</p>\n",
              "</div>\n",
              "      <button class=\"colab-df-convert\" onclick=\"convertToInteractive('df-c9ea0a65-577b-40b0-b73e-ac77eba2d3d4')\"\n",
              "              title=\"Convert this dataframe to an interactive table.\"\n",
              "              style=\"display:none;\">\n",
              "        \n",
              "  <svg xmlns=\"http://www.w3.org/2000/svg\" height=\"24px\"viewBox=\"0 0 24 24\"\n",
              "       width=\"24px\">\n",
              "    <path d=\"M0 0h24v24H0V0z\" fill=\"none\"/>\n",
              "    <path d=\"M18.56 5.44l.94 2.06.94-2.06 2.06-.94-2.06-.94-.94-2.06-.94 2.06-2.06.94zm-11 1L8.5 8.5l.94-2.06 2.06-.94-2.06-.94L8.5 2.5l-.94 2.06-2.06.94zm10 10l.94 2.06.94-2.06 2.06-.94-2.06-.94-.94-2.06-.94 2.06-2.06.94z\"/><path d=\"M17.41 7.96l-1.37-1.37c-.4-.4-.92-.59-1.43-.59-.52 0-1.04.2-1.43.59L10.3 9.45l-7.72 7.72c-.78.78-.78 2.05 0 2.83L4 21.41c.39.39.9.59 1.41.59.51 0 1.02-.2 1.41-.59l7.78-7.78 2.81-2.81c.8-.78.8-2.07 0-2.86zM5.41 20L4 18.59l7.72-7.72 1.47 1.35L5.41 20z\"/>\n",
              "  </svg>\n",
              "      </button>\n",
              "      \n",
              "  <style>\n",
              "    .colab-df-container {\n",
              "      display:flex;\n",
              "      flex-wrap:wrap;\n",
              "      gap: 12px;\n",
              "    }\n",
              "\n",
              "    .colab-df-convert {\n",
              "      background-color: #E8F0FE;\n",
              "      border: none;\n",
              "      border-radius: 50%;\n",
              "      cursor: pointer;\n",
              "      display: none;\n",
              "      fill: #1967D2;\n",
              "      height: 32px;\n",
              "      padding: 0 0 0 0;\n",
              "      width: 32px;\n",
              "    }\n",
              "\n",
              "    .colab-df-convert:hover {\n",
              "      background-color: #E2EBFA;\n",
              "      box-shadow: 0px 1px 2px rgba(60, 64, 67, 0.3), 0px 1px 3px 1px rgba(60, 64, 67, 0.15);\n",
              "      fill: #174EA6;\n",
              "    }\n",
              "\n",
              "    [theme=dark] .colab-df-convert {\n",
              "      background-color: #3B4455;\n",
              "      fill: #D2E3FC;\n",
              "    }\n",
              "\n",
              "    [theme=dark] .colab-df-convert:hover {\n",
              "      background-color: #434B5C;\n",
              "      box-shadow: 0px 1px 3px 1px rgba(0, 0, 0, 0.15);\n",
              "      filter: drop-shadow(0px 1px 2px rgba(0, 0, 0, 0.3));\n",
              "      fill: #FFFFFF;\n",
              "    }\n",
              "  </style>\n",
              "\n",
              "      <script>\n",
              "        const buttonEl =\n",
              "          document.querySelector('#df-c9ea0a65-577b-40b0-b73e-ac77eba2d3d4 button.colab-df-convert');\n",
              "        buttonEl.style.display =\n",
              "          google.colab.kernel.accessAllowed ? 'block' : 'none';\n",
              "\n",
              "        async function convertToInteractive(key) {\n",
              "          const element = document.querySelector('#df-c9ea0a65-577b-40b0-b73e-ac77eba2d3d4');\n",
              "          const dataTable =\n",
              "            await google.colab.kernel.invokeFunction('convertToInteractive',\n",
              "                                                     [key], {});\n",
              "          if (!dataTable) return;\n",
              "\n",
              "          const docLinkHtml = 'Like what you see? Visit the ' +\n",
              "            '<a target=\"_blank\" href=https://colab.research.google.com/notebooks/data_table.ipynb>data table notebook</a>'\n",
              "            + ' to learn more about interactive tables.';\n",
              "          element.innerHTML = '';\n",
              "          dataTable['output_type'] = 'display_data';\n",
              "          await google.colab.output.renderOutput(dataTable, element);\n",
              "          const docLink = document.createElement('div');\n",
              "          docLink.innerHTML = docLinkHtml;\n",
              "          element.appendChild(docLink);\n",
              "        }\n",
              "      </script>\n",
              "    </div>\n",
              "  </div>\n",
              "  "
            ]
          },
          "metadata": {},
          "execution_count": 111
        }
      ]
    },
    {
      "cell_type": "markdown",
      "source": [
        "This shows that number of females who left the company are more as compared to the number of males. This maybe due to the fact that male employee don't work in a company for a long time or the working condition for the females are better as compared to men or there are less percentage of female employee."
      ],
      "metadata": {
        "id": "jbCPqyfCe6KZ"
      }
    },
    {
      "cell_type": "code",
      "source": [
        "print(df['Age'].to_numpy(),type(df['Age'].to_numpy()),sep=\"\\n\")"
      ],
      "metadata": {
        "id": "7NWE0Ba7wVx9"
      },
      "execution_count": null,
      "outputs": []
    },
    {
      "cell_type": "code",
      "source": [
        "type(df['Age'])"
      ],
      "metadata": {
        "id": "Dh4VK1dEzooX"
      },
      "execution_count": null,
      "outputs": []
    },
    {
      "cell_type": "code",
      "source": [
        "\n",
        "dfage=df['Age'].to_numpy()\n",
        "dftenure=df['Tenure'].to_numpy()\n",
        "\n",
        "for i in range (len(dftenure)):\n",
        "   dftenure[i]=float( dftenure[i] )\n",
        "\n",
        "dfedu=np.unique(df['Education'].to_numpy())\n",
        "dfmi=df['Monthly Income'].to_numpy()\n",
        "dfdesig=np.unique(df['Designation'].to_numpy())"
      ],
      "metadata": {
        "id": "q12TfQ3T1eOV"
      },
      "execution_count": null,
      "outputs": []
    },
    {
      "cell_type": "code",
      "source": [
        "plt.scatter(dfage,dfmi)\n",
        "plt.xlabel(\"Age\")\n",
        "plt.ylabel(\"Monthly Income\")"
      ],
      "metadata": {
        "colab": {
          "base_uri": "https://localhost:8080/",
          "height": 296
        },
        "id": "6jwXFb2s08LT",
        "outputId": "80cf3910-d63a-4a20-ab6f-4574b1fb2923"
      },
      "execution_count": null,
      "outputs": [
        {
          "output_type": "execute_result",
          "data": {
            "text/plain": [
              "Text(0, 0.5, 'Monthly Income')"
            ]
          },
          "metadata": {},
          "execution_count": 113
        },
        {
          "output_type": "display_data",
          "data": {
            "text/plain": [
              "<Figure size 432x288 with 1 Axes>"
            ],
            "image/png": "[encoded data removed]"
          },
          "metadata": {
            "needs_background": "light"
          }
        }
      ]
    },
    {
      "cell_type": "markdown",
      "source": [
        "As the age increases, there is an increase in the amount of monthly income.In short, senior employees are paid more than their juniors."
      ],
      "metadata": {
        "id": "qd65S0Xd2_qX"
      }
    },
    {
      "cell_type": "code",
      "source": [
        "plt.scatter(dfmi,dftenure)\n",
        "plt.ylabel(\"Tenure\")\n",
        "plt.xlabel(\"Monthly Income\")\n",
        "count=0\n",
        "for i in range (len(dftenure)):\n",
        "    if(dftenure[i]<=3):\n",
        "      count=count+1\n",
        "print(\"Number of people with tenure less than 3 years is\",count)"
      ],
      "metadata": {
        "colab": {
          "base_uri": "https://localhost:8080/",
          "height": 296
        },
        "id": "B9eXFURo3eiW",
        "outputId": "8a7cbff0-8458-4f69-e207-c8a29b13eb7e"
      },
      "execution_count": null,
      "outputs": [
        {
          "output_type": "stream",
          "name": "stdout",
          "text": [
            "Number of people with tenure less than 3 years is 253\n"
          ]
        },
        {
          "output_type": "display_data",
          "data": {
            "text/plain": [
              "<Figure size 432x288 with 1 Axes>"
            ],
            "image/png": "[encoded data removed]"
          },
          "metadata": {
            "needs_background": "light"
          }
        }
      ]
    },
    {
      "cell_type": "markdown",
      "source": [
        "Most employee with monthly income less than 30000 have left the company. Moreover, the tenure of most people with income less than 30000 is less than 6 years with maximum(253) leaving the company within the tenure of 3 years."
      ],
      "metadata": {
        "id": "cV78XEFP8bdS"
      }
    },
    {
      "cell_type": "code",
      "source": [
        "mmi=np.zeros(len(dfdesig))\n",
        "df1=df['Designation'].to_numpy()\n",
        "df2=df['Monthly Income'].to_numpy()\n",
        "for i in range (len(dfdesig)):\n",
        "  no=0\n",
        "  for j in range (len(df['Designation'].to_numpy())):\n",
        "     if(df1[j]==dfdesig[i]):\n",
        "        mmi[i]=mmi[i]+df2[j]\n",
        "        no=no+1\n",
        "  print(dfdesig[i])#??Why multiple \n",
        "  mmi[i]=mmi[i]/no\n",
        "\n",
        "plt.barh(dfdesig,mmi)"
      ],
      "metadata": {
        "colab": {
          "base_uri": "https://localhost:8080/",
          "height": 456
        },
        "id": "rb4p60gj-n8X",
        "outputId": "3392f7bf-19cf-4c74-fa5c-183df4e3545f"
      },
      "execution_count": null,
      "outputs": [
        {
          "output_type": "stream",
          "name": "stdout",
          "text": [
            " Sales Executive\n",
            "AM - Sales\n",
            "National Sales Head\n",
            "Regional Manager\n",
            "Sales Executive\n",
            "Sales Executive \n",
            "Sr Sales Executive\n",
            "Sr Sales Executive \n",
            "Technical Services Officer\n",
            "Zonal Manager\n"
          ]
        },
        {
          "output_type": "execute_result",
          "data": {
            "text/plain": [
              "<BarContainer object of 10 artists>"
            ]
          },
          "metadata": {},
          "execution_count": 115
        },
        {
          "output_type": "display_data",
          "data": {
            "text/plain": [
              "<Figure size 432x288 with 1 Axes>"
            ],
            "image/png": "[encoded data removed]"
          },
          "metadata": {
            "needs_background": "light"
          }
        }
      ]
    },
    {
      "cell_type": "markdown",
      "source": [
        "#**Designation**      :    **Mean Monthly Salary**\n",
        "\n",
        "Sales executives      :       20k-30k\n",
        "\n",
        "SR sales exe          :       30k-40k\n",
        "\n",
        "AM sales              :       50k-60k\n",
        "\n",
        "Regional managers     :       50k-60k\n",
        "\n",
        "Zonal managers        :      70k-90k\n",
        "\n",
        "National Head         :      200k+ "
      ],
      "metadata": {
        "id": "qZBft_1QT1FX"
      }
    },
    {
      "cell_type": "code",
      "source": [
        "plt.hist(df['Monthly Income'],bins=np.arange(10000,300000,40000))\n",
        "plt.xlabel('Salary')\n",
        "plt.ylabel('People')\n"
      ],
      "metadata": {
        "colab": {
          "base_uri": "https://localhost:8080/",
          "height": 296
        },
        "id": "YpbrBhdCV6kk",
        "outputId": "764d701f-4837-43bf-d4e9-58587c9d7616"
      },
      "execution_count": null,
      "outputs": [
        {
          "output_type": "execute_result",
          "data": {
            "text/plain": [
              "Text(0, 0.5, 'People')"
            ]
          },
          "metadata": {},
          "execution_count": 116
        },
        {
          "output_type": "display_data",
          "data": {
            "text/plain": [
              "<Figure size 432x288 with 1 Axes>"
            ],
            "image/png": "[encoded data removed]"
          },
          "metadata": {
            "needs_background": "light"
          }
        }
      ]
    },
    {
      "cell_type": "markdown",
      "source": [
        "We can clearly see from the histogram that most of the employee who left the company were being paid less than 50K."
      ],
      "metadata": {
        "id": "wwKLWcWCAb2-"
      }
    },
    {
      "cell_type": "code",
      "source": [
        "mmie=np.zeros(len(dfedu))\n",
        "for i in range (len(dfedu)):\n",
        "  no=0\n",
        "  for j in range (len(df['Education'].to_numpy())):\n",
        "     if(df['Education'].to_numpy()[j]==dfedu[i]):\n",
        "        mmie[i]=mmie[i]+df[\"Monthly Income\"][j]\n",
        "        no=no+1\n",
        "  mmie[i]=mmie[i]/no\n",
        "  print(no,mmie[i],sep=\":\")\n",
        "\n",
        "plt.bar(dfedu,mmie)"
      ],
      "metadata": {
        "colab": {
          "base_uri": "https://localhost:8080/",
          "height": 319
        },
        "id": "gTe9dI5iAJ_x",
        "outputId": "3ac64bee-8334-419d-cee1-c394aff97cf0"
      },
      "execution_count": null,
      "outputs": [
        {
          "output_type": "stream",
          "name": "stdout",
          "text": [
            "309:30560.954692556636\n",
            "18:67475.5\n"
          ]
        },
        {
          "output_type": "execute_result",
          "data": {
            "text/plain": [
              "<BarContainer object of 2 artists>"
            ]
          },
          "metadata": {},
          "execution_count": 117
        },
        {
          "output_type": "display_data",
          "data": {
            "text/plain": [
              "<Figure size 432x288 with 1 Axes>"
            ],
            "image/png": "[encoded data removed]"
          },
          "metadata": {
            "needs_background": "light"
          }
        }
      ]
    },
    {
      "cell_type": "markdown",
      "source": [
        "It is seen that the mean of the monthly salary of the MBA employee who left the company was more than the Bachelor employee. Moreover the number of MBA employee who left the company is far too less than the Bachelor employee. We might infer from the above two graphs that low pay scale may be the reason for leaving the company apart from their personal remarks."
      ],
      "metadata": {
        "id": "SdBR2LQQ8Nwk"
      }
    },
    {
      "cell_type": "code",
      "source": [
        "print(\"Thank you :)\")"
      ],
      "metadata": {
        "colab": {
          "base_uri": "https://localhost:8080/"
        },
        "id": "nlR69EJRBPGG",
        "outputId": "2548bd24-440f-4005-f2bd-392aa4c3f2c7"
      },
      "execution_count": null,
      "outputs": [
        {
          "output_type": "stream",
          "name": "stdout",
          "text": [
            "Thank you :)\n"
          ]
        }
      ]
    }
  ],
  "metadata": {
    "colab": {
      "provenance": []
    },
    "kernelspec": {
      "display_name": "Python 3",
      "name": "python3"
    },
    "language_info": {
      "name": "python"
    }
  },
  "nbformat": 4,
  "nbformat_minor": 0
}